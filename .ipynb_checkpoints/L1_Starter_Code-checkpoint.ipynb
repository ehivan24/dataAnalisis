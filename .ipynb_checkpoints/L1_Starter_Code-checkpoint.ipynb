{
 "metadata": {
  "kernelspec": {
   "display_name": "Python 2",
   "language": "python",
   "name": "python2"
  },
  "language_info": {
   "codemirror_mode": {
    "name": "ipython",
    "version": 2
   },
   "file_extension": ".py",
   "mimetype": "text/x-python",
   "name": "python",
   "nbconvert_exporter": "python",
   "pygments_lexer": "ipython2",
   "version": "2.7.10"
  },
  "name": "",
  "signature": "sha256:be823203d0474d3a92b6c670dcd30c72b2f2131163bed403b5665f7fed4df82b"
 },
 "nbformat": 3,
 "nbformat_minor": 0,
 "worksheets": [
  {
   "cells": [
    {
     "cell_type": "heading",
     "level": 2,
     "metadata": {},
     "source": [
      "Load Data from CSVs"
     ]
    },
    {
     "cell_type": "code",
     "collapsed": true,
     "input": [
      "import unicodecsv\n",
      "\n",
      "## Longer version of code (replaced with shorter, equivalent version below)\n",
      "\n",
      "# enrollments = []\n",
      "# f = open('enrollments.csv', 'rb')\n",
      "# reader = unicodecsv.DictReader(f)\n",
      "# for row in reader:\n",
      "#     enrollments.append(row)\n",
      "# f.close()\n",
      "\n",
      "with open('enrollments.csv', 'rb') as f:\n",
      "    reader = unicodecsv.DictReader(f)\n",
      "    enrollments = list(reader)"
     ],
     "language": "python",
     "metadata": {},
     "outputs": [],
     "prompt_number": 1
    },
    {
     "cell_type": "code",
     "collapsed": false,
     "input": [
      "#####################################\n",
      "#                 1                 #\n",
      "#####################################\n",
      "\n",
      "## Read in the data from daily_engagement.csv and project_submissions.csv \n",
      "## and store the results in the below variables.\n",
      "## Then look at the first row of each table.\n",
      "\n",
      "daily_engagement = \"daily_engagement.csv\"\n",
      "project_submissions = \"project_submissions.csv\""
     ],
     "language": "python",
     "metadata": {},
     "outputs": [],
     "prompt_number": null
    },
    {
     "cell_type": "heading",
     "level": 2,
     "metadata": {},
     "source": [
      "Fixing Data Types"
     ]
    },
    {
     "cell_type": "code",
     "collapsed": true,
     "input": [
      "from datetime import datetime as dt\n",
      "\n",
      "# Takes a date as a string, and returns a Python datetime object. \n",
      "# If there is no date given, returns None\n",
      "def parse_date(date):\n",
      "    if date == '':\n",
      "        return None\n",
      "    else:\n",
      "        return dt.strptime(date, '%Y-%m-%d')\n",
      "    \n",
      "# Takes a string which is either an empty string or represents an integer,\n",
      "# and returns an int or None.\n",
      "def parse_maybe_int(i):\n",
      "    if i == '':\n",
      "        return None\n",
      "    else:\n",
      "        return int(i)\n",
      "\n",
      "# Clean up the data types in the enrollments table\n",
      "for enrollment in enrollments:\n",
      "    enrollment['cancel_date'] = parse_date(enrollment['cancel_date'])\n",
      "    enrollment['days_to_cancel'] = parse_maybe_int(enrollment['days_to_cancel'])\n",
      "    enrollment['is_canceled'] = enrollment['is_canceled'] == 'True'\n",
      "    enrollment['is_udacity'] = enrollment['is_udacity'] == 'True'\n",
      "    enrollment['join_date'] = parse_date(enrollment['join_date'])\n",
      "    \n",
      "enrollments[0]"
     ],
     "language": "python",
     "metadata": {},
     "outputs": [
      {
       "metadata": {},
       "output_type": "pyout",
       "prompt_number": 2,
       "text": [
        "{u'account_key': u'448',\n",
        " u'cancel_date': datetime.datetime(2015, 1, 14, 0, 0),\n",
        " u'days_to_cancel': 65,\n",
        " u'is_canceled': True,\n",
        " u'is_udacity': True,\n",
        " u'join_date': datetime.datetime(2014, 11, 10, 0, 0),\n",
        " u'status': u'canceled'}"
       ]
      }
     ],
     "prompt_number": 2
    },
    {
     "cell_type": "code",
     "collapsed": true,
     "input": [
      "# Clean up the data types in the engagement table\n",
      "for engagement_record in daily_engagement:\n",
      "    engagement_record['lessons_completed'] = int(float(engagement_record['lessons_completed']))\n",
      "    engagement_record['num_courses_visited'] = int(float(engagement_record['num_courses_visited']))\n",
      "    engagement_record['projects_completed'] = int(float(engagement_record['projects_completed']))\n",
      "    engagement_record['total_minutes_visited'] = float(engagement_record['total_minutes_visited'])\n",
      "    engagement_record['utc_date'] = parse_date(engagement_record['utc_date'])\n",
      "    \n",
      "daily_engagement[0]"
     ],
     "language": "python",
     "metadata": {},
     "outputs": [
      {
       "ename": "NameError",
       "evalue": "name 'daily_engagement' is not defined",
       "output_type": "pyerr",
       "traceback": [
        "\u001b[0;31m---------------------------------------------------------------------------\u001b[0m\n\u001b[0;31mNameError\u001b[0m                                 Traceback (most recent call last)",
        "\u001b[0;32m<ipython-input-3-09973b9f45d8>\u001b[0m in \u001b[0;36m<module>\u001b[0;34m()\u001b[0m\n\u001b[1;32m      1\u001b[0m \u001b[0;31m# Clean up the data types in the engagement table\u001b[0m\u001b[0;34m\u001b[0m\u001b[0;34m\u001b[0m\u001b[0m\n\u001b[0;32m----> 2\u001b[0;31m \u001b[0;32mfor\u001b[0m \u001b[0mengagement_record\u001b[0m \u001b[0;32min\u001b[0m \u001b[0mdaily_engagement\u001b[0m\u001b[0;34m:\u001b[0m\u001b[0;34m\u001b[0m\u001b[0m\n\u001b[0m\u001b[1;32m      3\u001b[0m     \u001b[0mengagement_record\u001b[0m\u001b[0;34m[\u001b[0m\u001b[0;34m'lessons_completed'\u001b[0m\u001b[0;34m]\u001b[0m \u001b[0;34m=\u001b[0m \u001b[0mint\u001b[0m\u001b[0;34m(\u001b[0m\u001b[0mfloat\u001b[0m\u001b[0;34m(\u001b[0m\u001b[0mengagement_record\u001b[0m\u001b[0;34m[\u001b[0m\u001b[0;34m'lessons_completed'\u001b[0m\u001b[0;34m]\u001b[0m\u001b[0;34m)\u001b[0m\u001b[0;34m)\u001b[0m\u001b[0;34m\u001b[0m\u001b[0m\n\u001b[1;32m      4\u001b[0m     \u001b[0mengagement_record\u001b[0m\u001b[0;34m[\u001b[0m\u001b[0;34m'num_courses_visited'\u001b[0m\u001b[0;34m]\u001b[0m \u001b[0;34m=\u001b[0m \u001b[0mint\u001b[0m\u001b[0;34m(\u001b[0m\u001b[0mfloat\u001b[0m\u001b[0;34m(\u001b[0m\u001b[0mengagement_record\u001b[0m\u001b[0;34m[\u001b[0m\u001b[0;34m'num_courses_visited'\u001b[0m\u001b[0;34m]\u001b[0m\u001b[0;34m)\u001b[0m\u001b[0;34m)\u001b[0m\u001b[0;34m\u001b[0m\u001b[0m\n\u001b[1;32m      5\u001b[0m     \u001b[0mengagement_record\u001b[0m\u001b[0;34m[\u001b[0m\u001b[0;34m'projects_completed'\u001b[0m\u001b[0;34m]\u001b[0m \u001b[0;34m=\u001b[0m \u001b[0mint\u001b[0m\u001b[0;34m(\u001b[0m\u001b[0mfloat\u001b[0m\u001b[0;34m(\u001b[0m\u001b[0mengagement_record\u001b[0m\u001b[0;34m[\u001b[0m\u001b[0;34m'projects_completed'\u001b[0m\u001b[0;34m]\u001b[0m\u001b[0;34m)\u001b[0m\u001b[0;34m)\u001b[0m\u001b[0;34m\u001b[0m\u001b[0m\n",
        "\u001b[0;31mNameError\u001b[0m: name 'daily_engagement' is not defined"
       ]
      }
     ],
     "prompt_number": 3
    },
    {
     "cell_type": "code",
     "collapsed": true,
     "input": [
      "# Clean up the data types in the submissions table\n",
      "for submission in project_submissions:\n",
      "    submission['completion_date'] = parse_date(submission['completion_date'])\n",
      "    submission['creation_date'] = parse_date(submission['creation_date'])\n",
      "\n",
      "project_submissions[0]"
     ],
     "language": "python",
     "metadata": {},
     "outputs": [],
     "prompt_number": null
    },
    {
     "cell_type": "heading",
     "level": 2,
     "metadata": {},
     "source": [
      "Investigating the Data"
     ]
    },
    {
     "cell_type": "code",
     "collapsed": true,
     "input": [
      "#####################################\n",
      "#                 2                 #\n",
      "#####################################\n",
      "\n",
      "## Find the total number of rows and the number of unique students (account keys)\n",
      "## in each table."
     ],
     "language": "python",
     "metadata": {},
     "outputs": [],
     "prompt_number": null
    },
    {
     "cell_type": "heading",
     "level": 2,
     "metadata": {},
     "source": [
      "Problems in the Data"
     ]
    },
    {
     "cell_type": "code",
     "collapsed": true,
     "input": [
      "#####################################\n",
      "#                 3                 #\n",
      "#####################################\n",
      "\n",
      "## Rename the \"acct\" column in the daily_engagement table to \"account_key\"."
     ],
     "language": "python",
     "metadata": {},
     "outputs": [],
     "prompt_number": null
    },
    {
     "cell_type": "heading",
     "level": 2,
     "metadata": {},
     "source": [
      "Missing Engagement Records"
     ]
    },
    {
     "cell_type": "code",
     "collapsed": true,
     "input": [
      "#####################################\n",
      "#                 4                 #\n",
      "#####################################\n",
      "\n",
      "## Find any one student enrollments where the student is missing from the daily engagement table.\n",
      "## Output that enrollment."
     ],
     "language": "python",
     "metadata": {},
     "outputs": [],
     "prompt_number": null
    },
    {
     "cell_type": "heading",
     "level": 2,
     "metadata": {},
     "source": [
      "Checking for More Problem Records"
     ]
    },
    {
     "cell_type": "code",
     "collapsed": true,
     "input": [
      "#####################################\n",
      "#                 5                 #\n",
      "#####################################\n",
      "\n",
      "## Find the number of surprising data points (enrollments missing from\n",
      "## the engagement table) that remain, if any."
     ],
     "language": "python",
     "metadata": {},
     "outputs": [],
     "prompt_number": null
    },
    {
     "cell_type": "heading",
     "level": 2,
     "metadata": {},
     "source": [
      "Tracking Down the Remaining Problems"
     ]
    },
    {
     "cell_type": "code",
     "collapsed": true,
     "input": [
      "# Create a set of the account keys for all Udacity test accounts\n",
      "udacity_test_accounts = set()\n",
      "for enrollment in enrollments:\n",
      "    if enrollment['is_udacity']:\n",
      "        udacity_test_accounts.add(enrollment['account_key'])\n",
      "len(udacity_test_accounts)"
     ],
     "language": "python",
     "metadata": {},
     "outputs": [],
     "prompt_number": null
    },
    {
     "cell_type": "code",
     "collapsed": true,
     "input": [
      "# Given some data with an account_key field, removes any records corresponding to Udacity test accounts\n",
      "def remove_udacity_accounts(data):\n",
      "    non_udacity_data = []\n",
      "    for data_point in data:\n",
      "        if data_point['account_key'] not in udacity_test_accounts:\n",
      "            non_udacity_data.append(data_point)\n",
      "    return non_udacity_data"
     ],
     "language": "python",
     "metadata": {},
     "outputs": [],
     "prompt_number": null
    },
    {
     "cell_type": "code",
     "collapsed": true,
     "input": [
      "# Remove Udacity test accounts from all three tables\n",
      "non_udacity_enrollments = remove_udacity_accounts(enrollments)\n",
      "non_udacity_engagement = remove_udacity_accounts(daily_engagement)\n",
      "non_udacity_submissions = remove_udacity_accounts(project_submissions)\n",
      "\n",
      "print len(non_udacity_enrollments)\n",
      "print len(non_udacity_engagement)\n",
      "print len(non_udacity_submissions)"
     ],
     "language": "python",
     "metadata": {},
     "outputs": [],
     "prompt_number": null
    },
    {
     "cell_type": "heading",
     "level": 2,
     "metadata": {},
     "source": [
      "Refining the Question"
     ]
    },
    {
     "cell_type": "code",
     "collapsed": true,
     "input": [
      "#####################################\n",
      "#                 6                 #\n",
      "#####################################\n",
      "\n",
      "## Create a dictionary named paid_students containing all students who either\n",
      "## haven't canceled yet or who remained enrolled for more than 7 days. The keys\n",
      "## should be account keys, and the values should be the date the student enrolled.\n",
      "\n",
      "paid_students ="
     ],
     "language": "python",
     "metadata": {},
     "outputs": [],
     "prompt_number": null
    },
    {
     "cell_type": "heading",
     "level": 2,
     "metadata": {},
     "source": [
      "Getting Data from First Week"
     ]
    },
    {
     "cell_type": "code",
     "collapsed": true,
     "input": [
      "# Takes a student's join date and the date of a specific engagement record,\n",
      "# and returns True if that engagement record happened within one week\n",
      "# of the student joining.\n",
      "def within_one_week(join_date, engagement_date):\n",
      "    time_delta = engagement_date - join_date\n",
      "    return time_delta.days < 7"
     ],
     "language": "python",
     "metadata": {},
     "outputs": [],
     "prompt_number": null
    },
    {
     "cell_type": "code",
     "collapsed": true,
     "input": [
      "#####################################\n",
      "#                 7                 #\n",
      "#####################################\n",
      "\n",
      "## Create a list of rows from the engagement table including only rows where\n",
      "## the student is one of the paid students you just found, and the date is within\n",
      "## one week of the student's join date.\n",
      "\n",
      "paid_engagement_in_first_week = "
     ],
     "language": "python",
     "metadata": {},
     "outputs": [],
     "prompt_number": null
    },
    {
     "cell_type": "heading",
     "level": 2,
     "metadata": {},
     "source": [
      "Exploring Student Engagement"
     ]
    },
    {
     "cell_type": "code",
     "collapsed": true,
     "input": [
      "from collections import defaultdict\n",
      "\n",
      "# Create a dictionary of engagement grouped by student.\n",
      "# The keys are account keys, and the values are lists of engagement records.\n",
      "engagement_by_account = defaultdict(list)\n",
      "for engagement_record in paid_engagement_in_first_week:\n",
      "    account_key = engagement_record['account_key']\n",
      "    engagement_by_account[account_key].append(engagement_record)"
     ],
     "language": "python",
     "metadata": {},
     "outputs": [],
     "prompt_number": null
    },
    {
     "cell_type": "code",
     "collapsed": true,
     "input": [
      "# Create a dictionary with the total minutes each student spent in the classroom during the first week.\n",
      "# The keys are account keys, and the values are numbers (total minutes)\n",
      "total_minutes_by_account = {}\n",
      "for account_key, engagement_for_student in engagement_by_account.items():\n",
      "    total_minutes = 0\n",
      "    for engagement_record in engagement_for_student:\n",
      "        total_minutes += engagement_record['total_minutes_visited']\n",
      "    total_minutes_by_account[account_key] = total_minutes"
     ],
     "language": "python",
     "metadata": {},
     "outputs": [],
     "prompt_number": null
    },
    {
     "cell_type": "code",
     "collapsed": true,
     "input": [
      "import numpy as np\n",
      "\n",
      "# Summarize the data about minutes spent in the classroom\n",
      "total_minutes = total_minutes_by_account.values()\n",
      "print 'Mean:', np.mean(total_minutes)\n",
      "print 'Standard deviation:', np.std(total_minutes)\n",
      "print 'Minimum:', np.min(total_minutes)\n",
      "print 'Maximum:', np.max(total_minutes)"
     ],
     "language": "python",
     "metadata": {},
     "outputs": [],
     "prompt_number": null
    },
    {
     "cell_type": "heading",
     "level": 2,
     "metadata": {},
     "source": [
      "Debugging Data Analysis Code"
     ]
    },
    {
     "cell_type": "code",
     "collapsed": true,
     "input": [
      "#####################################\n",
      "#                 8                 #\n",
      "#####################################\n",
      "\n",
      "## Go through a similar process as before to see if there is a problem.\n",
      "## Locate at least one surprising piece of data, output it, and take a look at it."
     ],
     "language": "python",
     "metadata": {},
     "outputs": [],
     "prompt_number": null
    },
    {
     "cell_type": "heading",
     "level": 2,
     "metadata": {},
     "source": [
      "Lessons Completed in First Week"
     ]
    },
    {
     "cell_type": "code",
     "collapsed": true,
     "input": [
      "#####################################\n",
      "#                 9                 #\n",
      "#####################################\n",
      "\n",
      "## Adapt the code above to find the mean, standard deviation, minimum, and maximum for\n",
      "## the number of lessons completed by each student during the first week. Try creating\n",
      "## one or more functions to re-use the code above."
     ],
     "language": "python",
     "metadata": {},
     "outputs": [],
     "prompt_number": null
    },
    {
     "cell_type": "heading",
     "level": 2,
     "metadata": {},
     "source": [
      "Number of Visits in First Week"
     ]
    },
    {
     "cell_type": "code",
     "collapsed": true,
     "input": [
      "######################################\n",
      "#                 10                 #\n",
      "######################################\n",
      "\n",
      "## Find the mean, standard deviation, minimum, and maximum for the number of\n",
      "## days each student visits the classroom during the first week."
     ],
     "language": "python",
     "metadata": {},
     "outputs": [],
     "prompt_number": null
    },
    {
     "cell_type": "heading",
     "level": 2,
     "metadata": {},
     "source": [
      "Splitting out Passing Students"
     ]
    },
    {
     "cell_type": "code",
     "collapsed": true,
     "input": [
      "######################################\n",
      "#                 11                 #\n",
      "######################################\n",
      "\n",
      "## Create two lists of engagement data for paid students in the first week.\n",
      "## The first list should contain data for students who eventually pass the\n",
      "## subway project, and the second list should contain data for students\n",
      "## who do not.\n",
      "\n",
      "subway_project_lesson_keys = ['746169184', '3176718735']\n",
      "\n",
      "passing_engagement =\n",
      "non_passing_engagement ="
     ],
     "language": "python",
     "metadata": {},
     "outputs": [],
     "prompt_number": null
    },
    {
     "cell_type": "heading",
     "level": 2,
     "metadata": {},
     "source": [
      "Comparing the Two Student Groups"
     ]
    },
    {
     "cell_type": "code",
     "collapsed": true,
     "input": [
      "######################################\n",
      "#                 12                 #\n",
      "######################################\n",
      "\n",
      "## Compute some metrics you're interested in and see how they differ for\n",
      "## students who pass the subway project vs. students who don't. A good\n",
      "## starting point would be the metrics we looked at earlier (minutes spent\n",
      "## in the classroom, lessons completed, and days visited)."
     ],
     "language": "python",
     "metadata": {},
     "outputs": [],
     "prompt_number": null
    },
    {
     "cell_type": "heading",
     "level": 2,
     "metadata": {},
     "source": [
      "Making Histograms"
     ]
    },
    {
     "cell_type": "code",
     "collapsed": true,
     "input": [
      "######################################\n",
      "#                 13                 #\n",
      "######################################\n",
      "\n",
      "## Make histograms of the three metrics we looked at earlier for both\n",
      "## students who passed the subway project and students who didn't. You\n",
      "## might also want to make histograms of any other metrics you examined."
     ],
     "language": "python",
     "metadata": {},
     "outputs": [],
     "prompt_number": null
    },
    {
     "cell_type": "heading",
     "level": 2,
     "metadata": {},
     "source": [
      "Improving Plots and Sharing Findings"
     ]
    },
    {
     "cell_type": "code",
     "collapsed": true,
     "input": [
      "######################################\n",
      "#                 14                 #\n",
      "######################################\n",
      "\n",
      "## Make a more polished version of at least one of your visualizations\n",
      "## from earlier. Try importing the seaborn library to make the visualization\n",
      "## look better, adding axis labels and a title, and changing one or more\n",
      "## arguments to the hist() function."
     ],
     "language": "python",
     "metadata": {},
     "outputs": [],
     "prompt_number": null
    }
   ],
   "metadata": {}
  }
 ]
}