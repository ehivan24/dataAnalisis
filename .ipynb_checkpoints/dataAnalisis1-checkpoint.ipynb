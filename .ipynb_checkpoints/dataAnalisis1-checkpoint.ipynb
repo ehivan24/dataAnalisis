{
 "metadata": {
  "name": "",
  "signature": "sha256:1cd1b0f0013be905ae006e31cbf18a5b5bdb6b1277d2ce04470b0269de21bfd4"
 },
 "nbformat": 3,
 "nbformat_minor": 0,
 "worksheets": [
  {
   "cells": [
    {
     "cell_type": "code",
     "collapsed": false,
     "input": [
      "import unicodecsv\n",
      "enrollments = []\n",
      "f = open(\"enrollments.csv\", \"rb\")\n",
      "reader = unicodecsv.DictReader(f)\n",
      "\n",
      "for row in reader:\n",
      "    enrollments.append(row)\n",
      "    \n",
      "f.close()\n",
      "\n",
      "enrollments[0]\n"
     ],
     "language": "python",
     "metadata": {},
     "outputs": [],
     "prompt_number": 1
    },
    {
     "cell_type": "code",
     "collapsed": false,
     "input": [],
     "language": "python",
     "metadata": {},
     "outputs": []
    }
   ],
   "metadata": {}
  }
 ]
}