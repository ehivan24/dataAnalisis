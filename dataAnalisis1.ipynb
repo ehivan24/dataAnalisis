{
 "metadata": {
  "name": "",
  "signature": "sha256:56ac845546a8af3e85b0af5914c02b27ea0d7b48ec03f46301fa69a6fda381e3"
 },
 "nbformat": 3,
 "nbformat_minor": 0,
 "worksheets": [
  {
   "cells": [
    {
     "cell_type": "code",
     "collapsed": false,
     "input": [
      "import unicodecsv\n",
      "enrollments = []\n",
      "f = open(\"enrollments.csv\", \"rb\")\n",
      "reader = unicodecsv.DictReader(f)\n",
      "\n",
      "for row in reader:\n",
      "    enrollments.append(row)\n",
      "    \n",
      "f.close()\n",
      "\n",
      "enrollments[1]\n"
     ],
     "language": "python",
     "metadata": {},
     "outputs": [
      {
       "metadata": {},
       "output_type": "pyout",
       "prompt_number": 6,
       "text": [
        "{u'account_key': u'448',\n",
        " u'cancel_date': u'2014-11-10',\n",
        " u'days_to_cancel': u'5',\n",
        " u'is_canceled': u'True',\n",
        " u'is_udacity': u'True',\n",
        " u'join_date': u'2014-11-05',\n",
        " u'status': u'canceled'}"
       ]
      }
     ],
     "prompt_number": 6
    },
    {
     "cell_type": "code",
     "collapsed": false,
     "input": [],
     "language": "python",
     "metadata": {},
     "outputs": []
    }
   ],
   "metadata": {}
  }
 ]
}